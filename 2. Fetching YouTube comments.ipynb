{
 "cells": [
  {
   "cell_type": "markdown",
   "metadata": {},
   "source": [
    "# Fetching YouTube comments and classifying them"
   ]
  },
  {
   "cell_type": "markdown",
   "metadata": {},
   "source": [
    "In this notebook we fetch comments from YouTube and classify them using the model trained in the previous notebook."
   ]
  },
  {
   "cell_type": "markdown",
   "metadata": {},
   "source": [
    "It serves as the development of the code that ends up in `youtube.py`."
   ]
  },
  {
   "cell_type": "markdown",
   "metadata": {},
   "source": [
    "See this page for a handy way of setting up access to the YouTube data API: [https://python.gotrained.com/youtube-api-extracting-comments/](https://python.gotrained.com/youtube-api-extracting-comments/)\n",
    "\n",
    "YouTube API\n",
    "[https://developers.google.com/youtube/v3/docs/commentThreads/list](https://developers.google.com/youtube/v3/docs/commentThreads/list)"
   ]
  },
  {
   "cell_type": "code",
   "execution_count": 1,
   "metadata": {},
   "outputs": [],
   "source": [
    "%load_ext autoreload\n",
    "%autoreload 2"
   ]
  },
  {
   "cell_type": "code",
   "execution_count": 2,
   "metadata": {},
   "outputs": [
    {
     "name": "stdout",
     "output_type": "stream",
     "text": [
      "Collecting google-api-python-client\n",
      "  Downloading https://files.pythonhosted.org/packages/9a/b4/a955f393b838bc47cbb6ae4643b9d0f90333d3b4db4dc1e819f36aad18cc/google_api_python_client-1.8.0-py3-none-any.whl (57kB)\n",
      "Collecting google-auth>=1.4.1 (from google-api-python-client)\n",
      "  Downloading https://files.pythonhosted.org/packages/05/b0/cc391ebf8ebf7855cdcfe0a9a4cdc8dcd90287c90e1ac22651d104ac6481/google_auth-1.12.0-py2.py3-none-any.whl (83kB)\n",
      "Requirement already satisfied: six<2dev,>=1.6.1 in c:\\users\\ollie\\anaconda3\\lib\\site-packages (from google-api-python-client) (1.11.0)\n",
      "Collecting uritemplate<4dev,>=3.0.0 (from google-api-python-client)\n",
      "  Downloading https://files.pythonhosted.org/packages/bf/0c/60d82c077998feb631608dca3cc1fe19ac074e772bf0c24cf409b977b815/uritemplate-3.0.1-py2.py3-none-any.whl\n",
      "Collecting httplib2<1dev,>=0.9.2 (from google-api-python-client)\n",
      "  Downloading https://files.pythonhosted.org/packages/8e/4b/025a7338bb2d4a2c61f0e530b79aafc29d112ed8e61333a6dd9ba48f3bab/httplib2-0.17.0-py3-none-any.whl (95kB)\n",
      "Collecting google-auth-httplib2>=0.0.3 (from google-api-python-client)\n",
      "  Downloading https://files.pythonhosted.org/packages/33/49/c814d6d438b823441552198f096fcd0377fd6c88714dbed34f1d3c8c4389/google_auth_httplib2-0.0.3-py2.py3-none-any.whl\n",
      "Collecting google-api-core<2dev,>=1.13.0 (from google-api-python-client)\n",
      "  Downloading https://files.pythonhosted.org/packages/63/7e/a523169b0cc9ce62d56e07571db927286a94b1a5f51ac220bd97db825c77/google_api_core-1.16.0-py2.py3-none-any.whl (70kB)\n",
      "Collecting pyasn1-modules>=0.2.1 (from google-auth>=1.4.1->google-api-python-client)\n",
      "  Downloading https://files.pythonhosted.org/packages/95/de/214830a981892a3e286c3794f41ae67a4495df1108c3da8a9f62159b9a9d/pyasn1_modules-0.2.8-py2.py3-none-any.whl (155kB)\n",
      "Collecting setuptools>=40.3.0 (from google-auth>=1.4.1->google-api-python-client)\n",
      "  Downloading https://files.pythonhosted.org/packages/a0/df/635cdb901ee4a8a42ec68e480c49f85f4c59e8816effbf57d9e6ee8b3588/setuptools-46.1.3-py3-none-any.whl (582kB)\n",
      "Collecting rsa<4.1,>=3.1.4 (from google-auth>=1.4.1->google-api-python-client)\n",
      "  Downloading https://files.pythonhosted.org/packages/02/e5/38518af393f7c214357079ce67a317307936896e961e35450b70fad2a9cf/rsa-4.0-py2.py3-none-any.whl\n",
      "Collecting cachetools<5.0,>=2.0.0 (from google-auth>=1.4.1->google-api-python-client)\n",
      "  Downloading https://files.pythonhosted.org/packages/08/6a/abf83cb951617793fd49c98cb9456860f5df66ff89883c8660aa0672d425/cachetools-4.0.0-py3-none-any.whl\n",
      "Collecting googleapis-common-protos<2.0dev,>=1.6.0 (from google-api-core<2dev,>=1.13.0->google-api-python-client)\n",
      "  Downloading https://files.pythonhosted.org/packages/05/46/168fd780f594a4d61122f7f3dc0561686084319ad73b4febbf02ae8b32cf/googleapis-common-protos-1.51.0.tar.gz\n",
      "Requirement already satisfied: requests<3.0.0dev,>=2.18.0 in c:\\users\\ollie\\anaconda3\\lib\\site-packages (from google-api-core<2dev,>=1.13.0->google-api-python-client) (2.18.4)\n",
      "Requirement already satisfied: pytz in c:\\users\\ollie\\anaconda3\\lib\\site-packages (from google-api-core<2dev,>=1.13.0->google-api-python-client) (2018.4)\n",
      "Requirement already satisfied: protobuf>=3.4.0 in c:\\users\\ollie\\anaconda3\\lib\\site-packages (from google-api-core<2dev,>=1.13.0->google-api-python-client) (3.6.1)\n",
      "Collecting pyasn1<0.5.0,>=0.4.6 (from pyasn1-modules>=0.2.1->google-auth>=1.4.1->google-api-python-client)\n",
      "  Downloading https://files.pythonhosted.org/packages/62/1e/a94a8d635fa3ce4cfc7f506003548d0a2447ae76fd5ca53932970fe3053f/pyasn1-0.4.8-py2.py3-none-any.whl (77kB)\n",
      "Requirement already satisfied: chardet<3.1.0,>=3.0.2 in c:\\users\\ollie\\anaconda3\\lib\\site-packages (from requests<3.0.0dev,>=2.18.0->google-api-core<2dev,>=1.13.0->google-api-python-client) (3.0.4)\n",
      "Requirement already satisfied: idna<2.7,>=2.5 in c:\\users\\ollie\\anaconda3\\lib\\site-packages (from requests<3.0.0dev,>=2.18.0->google-api-core<2dev,>=1.13.0->google-api-python-client) (2.6)\n",
      "Requirement already satisfied: urllib3<1.23,>=1.21.1 in c:\\users\\ollie\\anaconda3\\lib\\site-packages (from requests<3.0.0dev,>=2.18.0->google-api-core<2dev,>=1.13.0->google-api-python-client) (1.22)\n",
      "Requirement already satisfied: certifi>=2017.4.17 in c:\\users\\ollie\\anaconda3\\lib\\site-packages (from requests<3.0.0dev,>=2.18.0->google-api-core<2dev,>=1.13.0->google-api-python-client) (2018.4.16)\n",
      "Building wheels for collected packages: googleapis-common-protos\n",
      "  Running setup.py bdist_wheel for googleapis-common-protos: started\n",
      "  Running setup.py bdist_wheel for googleapis-common-protos: finished with status 'done'\n",
      "  Stored in directory: C:\\Users\\ollie\\AppData\\Local\\pip\\Cache\\wheels\\2c\\f9\\7f\\6eb87e636072bf467e25348bbeb96849333e6a080dca78f706\n",
      "Successfully built googleapis-common-protos\n",
      "Installing collected packages: pyasn1, pyasn1-modules, setuptools, rsa, cachetools, google-auth, uritemplate, httplib2, google-auth-httplib2, googleapis-common-protos, google-api-core, google-api-python-client\n",
      "  Found existing installation: pyasn1 0.4.4\n",
      "    Uninstalling pyasn1-0.4.4:\n",
      "      Successfully uninstalled pyasn1-0.4.4\n",
      "  Found existing installation: setuptools 39.1.0\n",
      "    Uninstalling setuptools-39.1.0:\n",
      "      Successfully uninstalled setuptools-39.1.0\n",
      "Successfully installed cachetools-4.0.0 google-api-core-1.16.0 google-api-python-client-1.8.0 google-auth-1.12.0 google-auth-httplib2-0.0.3 googleapis-common-protos-1.51.0 httplib2-0.17.0 pyasn1-0.4.8 pyasn1-modules-0.2.8 rsa-4.0 setuptools-46.1.3 uritemplate-3.0.1\n"
     ]
    },
    {
     "name": "stderr",
     "output_type": "stream",
     "text": [
      "tensorflow 1.11.0 has requirement setuptools<=39.1.0, but you'll have setuptools 46.1.3 which is incompatible.\n",
      "You are using pip version 18.1, however version 20.0.2 is available.\n",
      "You should consider upgrading via the 'python -m pip install --upgrade pip' command.\n"
     ]
    },
    {
     "name": "stdout",
     "output_type": "stream",
     "text": [
      "Requirement already satisfied: google-auth in c:\\users\\ollie\\anaconda3\\lib\\site-packages (1.12.0)\n",
      "Collecting google-auth-oauthlib\n",
      "  Downloading https://files.pythonhosted.org/packages/7b/b8/88def36e74bee9fce511c9519571f4e485e890093ab7442284f4ffaef60b/google_auth_oauthlib-0.4.1-py2.py3-none-any.whl\n",
      "Requirement already satisfied: google-auth-httplib2 in c:\\users\\ollie\\anaconda3\\lib\\site-packages (0.0.3)\n",
      "Requirement already satisfied: rsa<4.1,>=3.1.4 in c:\\users\\ollie\\anaconda3\\lib\\site-packages (from google-auth) (4.0)\n",
      "Requirement already satisfied: setuptools>=40.3.0 in c:\\users\\ollie\\anaconda3\\lib\\site-packages (from google-auth) (46.1.3)\n",
      "Requirement already satisfied: pyasn1-modules>=0.2.1 in c:\\users\\ollie\\anaconda3\\lib\\site-packages (from google-auth) (0.2.8)\n",
      "Requirement already satisfied: six>=1.9.0 in c:\\users\\ollie\\anaconda3\\lib\\site-packages (from google-auth) (1.11.0)\n",
      "Requirement already satisfied: cachetools<5.0,>=2.0.0 in c:\\users\\ollie\\anaconda3\\lib\\site-packages (from google-auth) (4.0.0)\n",
      "Requirement already satisfied: requests-oauthlib>=0.7.0 in c:\\users\\ollie\\anaconda3\\lib\\site-packages (from google-auth-oauthlib) (1.2.0)\n",
      "Requirement already satisfied: httplib2>=0.9.1 in c:\\users\\ollie\\anaconda3\\lib\\site-packages (from google-auth-httplib2) (0.17.0)\n",
      "Requirement already satisfied: pyasn1>=0.1.3 in c:\\users\\ollie\\anaconda3\\lib\\site-packages (from rsa<4.1,>=3.1.4->google-auth) (0.4.8)\n",
      "Requirement already satisfied: requests>=2.0.0 in c:\\users\\ollie\\anaconda3\\lib\\site-packages (from requests-oauthlib>=0.7.0->google-auth-oauthlib) (2.18.4)\n",
      "Requirement already satisfied: oauthlib>=3.0.0 in c:\\users\\ollie\\anaconda3\\lib\\site-packages (from requests-oauthlib>=0.7.0->google-auth-oauthlib) (3.0.1)\n",
      "Requirement already satisfied: chardet<3.1.0,>=3.0.2 in c:\\users\\ollie\\anaconda3\\lib\\site-packages (from requests>=2.0.0->requests-oauthlib>=0.7.0->google-auth-oauthlib) (3.0.4)\n",
      "Requirement already satisfied: idna<2.7,>=2.5 in c:\\users\\ollie\\anaconda3\\lib\\site-packages (from requests>=2.0.0->requests-oauthlib>=0.7.0->google-auth-oauthlib) (2.6)\n",
      "Requirement already satisfied: urllib3<1.23,>=1.21.1 in c:\\users\\ollie\\anaconda3\\lib\\site-packages (from requests>=2.0.0->requests-oauthlib>=0.7.0->google-auth-oauthlib) (1.22)\n",
      "Requirement already satisfied: certifi>=2017.4.17 in c:\\users\\ollie\\anaconda3\\lib\\site-packages (from requests>=2.0.0->requests-oauthlib>=0.7.0->google-auth-oauthlib) (2018.4.16)\n",
      "Installing collected packages: google-auth-oauthlib\n",
      "Successfully installed google-auth-oauthlib-0.4.1\n"
     ]
    },
    {
     "name": "stderr",
     "output_type": "stream",
     "text": [
      "You are using pip version 18.1, however version 20.0.2 is available.\n",
      "You should consider upgrading via the 'python -m pip install --upgrade pip' command.\n"
     ]
    }
   ],
   "source": [
    "!pip install google-api-python-client\n",
    "!pip install google-auth google-auth-oauthlib google-auth-httplib2"
   ]
  },
  {
   "cell_type": "markdown",
   "metadata": {},
   "source": [
    "Install other packages."
   ]
  },
  {
   "cell_type": "code",
   "execution_count": 3,
   "metadata": {},
   "outputs": [],
   "source": [
    "%%capture\n",
    "!pip install requirements.txt"
   ]
  },
  {
   "cell_type": "code",
   "execution_count": 4,
   "metadata": {},
   "outputs": [],
   "source": [
    "import os\n",
    "import pickle\n",
    "import getpass"
   ]
  },
  {
   "cell_type": "markdown",
   "metadata": {},
   "source": [
    "Enter my personal YouTube client keys. If the user wants to use this work they might need to set up their own account and download their keys."
   ]
  },
  {
   "cell_type": "code",
   "execution_count": 5,
   "metadata": {},
   "outputs": [],
   "source": [
    "CLIENT_SECRETS_FILE = 'personal_key.json'"
   ]
  },
  {
   "cell_type": "code",
   "execution_count": 6,
   "metadata": {},
   "outputs": [],
   "source": [
    "from youtube_comments import youtube"
   ]
  },
  {
   "cell_type": "markdown",
   "metadata": {},
   "source": [
    "Specify the scope of this application."
   ]
  },
  {
   "cell_type": "code",
   "execution_count": 7,
   "metadata": {},
   "outputs": [],
   "source": [
    "SCOPES = ['https://www.googleapis.com/auth/youtube.force-ssl']\n",
    "API_SERVICE_NAME = 'youtube'\n",
    "API_VERSION = 'v3'"
   ]
  },
  {
   "cell_type": "code",
   "execution_count": 8,
   "metadata": {},
   "outputs": [],
   "source": [
    "import google.oauth2.credentials\n",
    "\n",
    "from googleapiclient.discovery import build\n",
    "from googleapiclient.errors import HttpError\n",
    "from google_auth_oauthlib.flow import InstalledAppFlow\n",
    "from google.auth.transport.requests import Request\n",
    "\n",
    "def get_authenticated_service():\n",
    "    credentials = None\n",
    "    if os.path.exists('token.pickle'):\n",
    "        with open('token.pickle', 'rb') as token:\n",
    "            credentials = pickle.load(token)\n",
    "    #  Check if the credentials are invalid or do not exist\n",
    "    if not credentials or not credentials.valid:\n",
    "        # Check if the credentials have expired\n",
    "        if credentials and credentials.expired and credentials.refresh_token:\n",
    "            credentials.refresh(Request())\n",
    "        else:\n",
    "            flow = InstalledAppFlow.from_client_secrets_file(\n",
    "                CLIENT_SECRETS_FILE, SCOPES\n",
    "            )\n",
    "            credentials = flow.run_console()\n",
    " \n",
    "        # Save the credentials for the next run\n",
    "        with open('token.pickle', 'wb') as token:\n",
    "            pickle.dump(credentials, token)\n",
    " \n",
    "    return build(API_SERVICE_NAME, API_VERSION, credentials = credentials)"
   ]
  },
  {
   "cell_type": "code",
   "execution_count": null,
   "metadata": {},
   "outputs": [],
   "source": [
    "# When running locally, disable OAuthlib's HTTPs verification. When\n",
    "# running in production *do not* leave this option enabled.\n",
    "os.environ['OAUTHLIB_INSECURE_TRANSPORT'] = '1'\n",
    "service = get_authenticated_service()"
   ]
  },
  {
   "cell_type": "markdown",
   "metadata": {},
   "source": [
    "### Search videos and fetch comments"
   ]
  },
  {
   "cell_type": "code",
   "execution_count": 10,
   "metadata": {},
   "outputs": [],
   "source": [
    "import csv\n",
    "import re\n",
    "\n",
    "def _get_video_id_from_url(url):\n",
    "    return re.split('v=', url)[-1]\n",
    "\n",
    "def get_video_comments_from_url(url, service, **kwargs):\n",
    "    \n",
    "    video_id = _get_video_id_from_url(url)\n",
    "    \n",
    "    comments = []\n",
    "    results = service.commentThreads().list(\n",
    "        part='snippet', videoId=video_id, textFormat='plainText', **kwargs\n",
    "    ).execute()\n",
    "\n",
    "    while results:\n",
    "        for item in results['items']:\n",
    "            comment = item['snippet']['topLevelComment']['snippet']['textDisplay']\n",
    "            comments.append(comment)\n",
    "\n",
    "        if 'nextPageToken' in results:\n",
    "            kwargs['pageToken'] = results['nextPageToken']\n",
    "            results = service.commentThreads().list(\n",
    "                part='snippet', videoId=video_id, textFormat='plainText', **kwargs\n",
    "            ).execute()\n",
    "        else:\n",
    "            break\n",
    "    \n",
    "    return comments\n",
    "\n",
    "\n",
    "def get_videos(service, **kwargs):\n",
    "    final_results = []\n",
    "    results = service.search().list(**kwargs).execute()\n",
    " \n",
    "    i = 0\n",
    "    max_pages = 3\n",
    "    while results and i < max_pages:\n",
    "        final_results.extend(results['items'])\n",
    " \n",
    "        # Check if another page exists\n",
    "        if 'nextPageToken' in results:\n",
    "            kwargs['pageToken'] = results['nextPageToken']\n",
    "            results = service.search().list(**kwargs).execute()\n",
    "            i += 1\n",
    "        else:\n",
    "            break\n",
    " \n",
    "    return final_results\n",
    "\n",
    "\n",
    "def get_video_comments(service, **kwargs):\n",
    "    comments = []\n",
    "    results = service.commentThreads().list(**kwargs).execute()\n",
    "\n",
    "    while results:\n",
    "        for item in results['items']:\n",
    "            comment = item['snippet']['topLevelComment']['snippet']['textDisplay']\n",
    "            comments.append(comment)\n",
    "\n",
    "        if 'nextPageToken' in results:\n",
    "            kwargs['pageToken'] = results['nextPageToken']\n",
    "            results = service.commentThreads().list(**kwargs).execute()\n",
    "        else:\n",
    "            break\n",
    "\n",
    "    return comments\n",
    "\n",
    "        \n",
    "def search_videos_by_keyword(service, **kwargs):\n",
    "    results = get_videos(service, **kwargs)\n",
    "    final_result = []\n",
    "    for item in results:\n",
    "        title = item['snippet']['title']\n",
    "        video_id = item['id']['videoId']\n",
    "        comments = get_video_comments(service, part='snippet', videoId=video_id, textFormat='plainText')\n",
    "        final_result.extend([(video_id, title, comment) for comment in comments])\n",
    "    \n",
    "    return final_result\n",
    "\n",
    "\n",
    "def write_to_csv(comments):\n",
    "    with open('comments.csv', 'w') as comments_file:\n",
    "        comments_writer = csv.writer(comments_file, delimiter=',', quotechar='\"', quoting=csv.QUOTE_MINIMAL)\n",
    "        comments_writer.writerow(['Video ID', 'Title', 'Comment'])\n",
    "        for row in comments:\n",
    "            comments_writer.writerow(list(row))\n"
   ]
  },
  {
   "cell_type": "code",
   "execution_count": null,
   "metadata": {},
   "outputs": [],
   "source": [
    "comments = get_video_comments_from_url('https://www.youtube.com/watch?v=D0W1v0kOELA', service)"
   ]
  },
  {
   "cell_type": "code",
   "execution_count": null,
   "metadata": {},
   "outputs": [],
   "source": [
    "len(comments)"
   ]
  },
  {
   "cell_type": "code",
   "execution_count": null,
   "metadata": {},
   "outputs": [],
   "source": [
    "comments[:10]"
   ]
  },
  {
   "cell_type": "code",
   "execution_count": null,
   "metadata": {},
   "outputs": [],
   "source": [
    "import pandas as pd\n",
    "\n",
    "comments_data = pd.DataFrame({\n",
    "    'comment': comments\n",
    "})\n",
    "comments_data.head(3)"
   ]
  },
  {
   "cell_type": "code",
   "execution_count": 16,
   "metadata": {},
   "outputs": [],
   "source": [
    "import pickle\n",
    "with open('models/models_dict.pkl', 'rb') as f:\n",
    "    models_dict = pickle.load(f)"
   ]
  },
  {
   "cell_type": "code",
   "execution_count": 17,
   "metadata": {},
   "outputs": [],
   "source": [
    "word_vectorizer = models_dict['word_vectorizer']\n",
    "char_vectorizer = models_dict['char_vectorizer']\n",
    "models = models_dict['models']"
   ]
  },
  {
   "cell_type": "code",
   "execution_count": 18,
   "metadata": {},
   "outputs": [],
   "source": [
    "from scipy.sparse import hstack\n",
    "\n",
    "def classify_comments(comments, word_vectorizer, char_vectorizer, models, probability=False):\n",
    "    \"\"\"\n",
    "    :param comments: an array of strings, the raw data to score\n",
    "    \"\"\"\n",
    "    word_features = word_vectorizer.transform(comments)\n",
    "    char_features = char_vectorizer.transform(comments)\n",
    "    combined_features = hstack([char_features, word_features])\n",
    "    \n",
    "    predictions = {}\n",
    "    for class_name, model in models.items():\n",
    "        if probability:\n",
    "            # Take the positive class probability prediction\n",
    "            class_prediction = model.predict_proba(combined_features)[1]\n",
    "        else:\n",
    "            class_prediction = model.predict(combined_features)\n",
    "            \n",
    "        predictions[class_name] = class_prediction\n",
    "    \n",
    "    return pd.DataFrame(predictions)\n"
   ]
  },
  {
   "cell_type": "code",
   "execution_count": 19,
   "metadata": {},
   "outputs": [
    {
     "data": {
      "text/plain": [
       "14    HEY DISLIKERS ! DO YOURSELF A FAVOR....1 ST LO...\n",
       "15                                 K-rose GTA SAN bitch\n",
       "16       Players guitar hero dari indonesia ada gak 😁😁😁\n",
       "17    I listen to slipknot, dope, lil Wayne, eminem,...\n",
       "18    My girlfriend says \"if i leave here tomorrow, ...\n",
       "Name: comment, dtype: object"
      ]
     },
     "execution_count": 19,
     "metadata": {},
     "output_type": "execute_result"
    }
   ],
   "source": [
    "comments_data.loc[14:18, 'comment']"
   ]
  },
  {
   "cell_type": "markdown",
   "metadata": {},
   "source": [
    "### Test the command-line system"
   ]
  },
  {
   "cell_type": "code",
   "execution_count": 13,
   "metadata": {},
   "outputs": [
    {
     "name": "stderr",
     "output_type": "stream",
     "text": [
      "Traceback (most recent call last):\n",
      "  File \"youtube_comments/youtube.py\", line 180, in <module>\n",
      "    youtube_comments = get_video_comments_from_url(args['url'], service)\n",
      "  File \"youtube_comments/youtube.py\", line 120, in get_video_comments_from_url\n",
      "    part='snippet', videoId=video_id, textFormat='plainText', **kwargs\n",
      "  File \"C:\\Users\\ollie\\Anaconda3\\lib\\site-packages\\googleapiclient\\_helpers.py\", line 134, in positional_wrapper\n",
      "    return wrapped(*args, **kwargs)\n",
      "  File \"C:\\Users\\ollie\\Anaconda3\\lib\\site-packages\\googleapiclient\\http.py\", line 898, in execute\n",
      "    raise HttpError(resp, content, uri=self.uri)\n",
      "googleapiclient.errors.HttpError: <HttpError 403 when requesting https://www.googleapis.com/youtube/v3/commentThreads?part=snippet&videoId=wLdK6z679Bs&textFormat=plainText&alt=json returned \"The request cannot be completed because you have exceeded your <a href=\"/youtube/v3/getting-started#quota\">quota</a>.\">\n"
     ]
    }
   ],
   "source": [
    "!python youtube_comments/youtube.py --key_file personal_key.json --url https://www.youtube.com/watch?v=wLdK6z679Bs --data_path=output"
   ]
  },
  {
   "cell_type": "code",
   "execution_count": 74,
   "metadata": {},
   "outputs": [
    {
     "name": "stdout",
     "output_type": "stream",
     "text": [
      "         toxic  severe_toxic   obscene  threat  insult  identity_hate\n",
      "mean  0.035714           0.0  0.035714     0.0     0.0            0.0\n",
      "sum   2.000000           0.0  2.000000     0.0     0.0            0.0\n"
     ]
    }
   ],
   "source": [
    "!python youtube_comments/youtube.py --key_file personal_key.json --url https://www.youtube.com/watch?v=eyHEn0lDc6g --data_path=output --save_raw=True"
   ]
  },
  {
   "cell_type": "code",
   "execution_count": null,
   "metadata": {},
   "outputs": [],
   "source": [
    "!python youtube_comments/youtube.py --key_file personal_key.json --url https://www.youtube.com/watch?v=D0W1v0kOELA --data_path=output"
   ]
  },
  {
   "cell_type": "code",
   "execution_count": null,
   "metadata": {},
   "outputs": [],
   "source": []
  }
 ],
 "metadata": {
  "kernelspec": {
   "display_name": "Python 3",
   "language": "python",
   "name": "python3"
  },
  "language_info": {
   "codemirror_mode": {
    "name": "ipython",
    "version": 3
   },
   "file_extension": ".py",
   "mimetype": "text/x-python",
   "name": "python",
   "nbconvert_exporter": "python",
   "pygments_lexer": "ipython3",
   "version": "3.6.5"
  }
 },
 "nbformat": 4,
 "nbformat_minor": 4
}
