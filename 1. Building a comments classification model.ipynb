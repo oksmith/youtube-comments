{
 "cells": [
  {
   "cell_type": "markdown",
   "metadata": {},
   "source": [
    "# Building a comments classification mode\n",
    "For each class, we build a Logistic Regression model with TF-IDF features. Data taken from Kaggle: [https://www.kaggle.com/c/jigsaw-toxic-comment-classification-challenge/data](https://www.kaggle.com/c/jigsaw-toxic-comment-classification-challenge/data)."
   ]
  },
  {
   "cell_type": "markdown",
   "metadata": {},
   "source": [
    "The result will be a Logistic Regression model for each comment type, along with word/character vectorizers, which allow us to classify comments on-the-fly."
   ]
  },
  {
   "cell_type": "code",
   "execution_count": 1,
   "metadata": {},
   "outputs": [],
   "source": [
    "import numpy as np\n",
    "import pandas as pd\n",
    "\n",
    "from sklearn.feature_extraction.text import TfidfVectorizer\n",
    "from sklearn.linear_model import LogisticRegression, LogisticRegressionCV\n",
    "from sklearn.model_selection import cross_val_score\n",
    "from scipy.sparse import hstack"
   ]
  },
  {
   "cell_type": "code",
   "execution_count": 2,
   "metadata": {},
   "outputs": [],
   "source": [
    "CLASS_NAMES = ['toxic', 'severe_toxic', 'obscene', 'threat', 'insult', 'identity_hate']"
   ]
  },
  {
   "cell_type": "markdown",
   "metadata": {},
   "source": [
    "We start with data from Kaggle:"
   ]
  },
  {
   "cell_type": "code",
   "execution_count": 3,
   "metadata": {},
   "outputs": [],
   "source": [
    "train = pd.read_csv('data/train.csv').fillna(' ')\n",
    "test = pd.read_csv('data/test.csv').fillna(' ')\n",
    "test_labels = pd.read_csv('data/test_labels.csv').fillna(' ')"
   ]
  },
  {
   "cell_type": "code",
   "execution_count": 4,
   "metadata": {},
   "outputs": [],
   "source": [
    "train['non-toxic'] = (~train[CLASS_NAMES].any(axis=1)).astype(int)"
   ]
  },
  {
   "cell_type": "code",
   "execution_count": 5,
   "metadata": {},
   "outputs": [
    {
     "data": {
      "text/html": [
       "<div>\n",
       "<style scoped>\n",
       "    .dataframe tbody tr th:only-of-type {\n",
       "        vertical-align: middle;\n",
       "    }\n",
       "\n",
       "    .dataframe tbody tr th {\n",
       "        vertical-align: top;\n",
       "    }\n",
       "\n",
       "    .dataframe thead th {\n",
       "        text-align: right;\n",
       "    }\n",
       "</style>\n",
       "<table border=\"1\" class=\"dataframe\">\n",
       "  <thead>\n",
       "    <tr style=\"text-align: right;\">\n",
       "      <th></th>\n",
       "      <th>id</th>\n",
       "      <th>comment_text</th>\n",
       "      <th>toxic</th>\n",
       "      <th>severe_toxic</th>\n",
       "      <th>obscene</th>\n",
       "      <th>threat</th>\n",
       "      <th>insult</th>\n",
       "      <th>identity_hate</th>\n",
       "      <th>non-toxic</th>\n",
       "    </tr>\n",
       "  </thead>\n",
       "  <tbody>\n",
       "    <tr>\n",
       "      <th>150162</th>\n",
       "      <td>67a2506e50f85ea7</td>\n",
       "      <td>\"\\n\\n Filipacchi \"\"emigrant\"\" category issue \\...</td>\n",
       "      <td>0</td>\n",
       "      <td>0</td>\n",
       "      <td>0</td>\n",
       "      <td>0</td>\n",
       "      <td>0</td>\n",
       "      <td>0</td>\n",
       "      <td>1</td>\n",
       "    </tr>\n",
       "    <tr>\n",
       "      <th>6613</th>\n",
       "      <td>11a1703cf04cd84e</td>\n",
       "      <td>Who the HELL do you think you are? \\n\\nHow dar...</td>\n",
       "      <td>1</td>\n",
       "      <td>0</td>\n",
       "      <td>0</td>\n",
       "      <td>1</td>\n",
       "      <td>0</td>\n",
       "      <td>0</td>\n",
       "      <td>0</td>\n",
       "    </tr>\n",
       "    <tr>\n",
       "      <th>4908</th>\n",
       "      <td>0cfda8482e69ce0d</td>\n",
       "      <td>irc.freenode.net wikipedia host cloak \\n\\nI wo...</td>\n",
       "      <td>0</td>\n",
       "      <td>0</td>\n",
       "      <td>0</td>\n",
       "      <td>0</td>\n",
       "      <td>0</td>\n",
       "      <td>0</td>\n",
       "      <td>1</td>\n",
       "    </tr>\n",
       "  </tbody>\n",
       "</table>\n",
       "</div>"
      ],
      "text/plain": [
       "                      id                                       comment_text  \\\n",
       "150162  67a2506e50f85ea7  \"\\n\\n Filipacchi \"\"emigrant\"\" category issue \\...   \n",
       "6613    11a1703cf04cd84e  Who the HELL do you think you are? \\n\\nHow dar...   \n",
       "4908    0cfda8482e69ce0d  irc.freenode.net wikipedia host cloak \\n\\nI wo...   \n",
       "\n",
       "        toxic  severe_toxic  obscene  threat  insult  identity_hate  non-toxic  \n",
       "150162      0             0        0       0       0              0          1  \n",
       "6613        1             0        0       1       0              0          0  \n",
       "4908        0             0        0       0       0              0          1  "
      ]
     },
     "execution_count": 5,
     "metadata": {},
     "output_type": "execute_result"
    }
   ],
   "source": [
    "train.sample(3)"
   ]
  },
  {
   "cell_type": "code",
   "execution_count": 6,
   "metadata": {},
   "outputs": [
    {
     "data": {
      "text/html": [
       "<div>\n",
       "<style scoped>\n",
       "    .dataframe tbody tr th:only-of-type {\n",
       "        vertical-align: middle;\n",
       "    }\n",
       "\n",
       "    .dataframe tbody tr th {\n",
       "        vertical-align: top;\n",
       "    }\n",
       "\n",
       "    .dataframe thead th {\n",
       "        text-align: right;\n",
       "    }\n",
       "</style>\n",
       "<table border=\"1\" class=\"dataframe\">\n",
       "  <thead>\n",
       "    <tr style=\"text-align: right;\">\n",
       "      <th></th>\n",
       "      <th>id</th>\n",
       "      <th>comment_text</th>\n",
       "      <th>toxic</th>\n",
       "      <th>severe_toxic</th>\n",
       "      <th>obscene</th>\n",
       "      <th>threat</th>\n",
       "      <th>insult</th>\n",
       "      <th>identity_hate</th>\n",
       "      <th>non-toxic</th>\n",
       "    </tr>\n",
       "  </thead>\n",
       "  <tbody>\n",
       "    <tr>\n",
       "      <th>116553</th>\n",
       "      <td>6f0c4b9a1b4b6eae</td>\n",
       "      <td>, also: Favonian is a super-huge faggot.</td>\n",
       "      <td>1</td>\n",
       "      <td>0</td>\n",
       "      <td>1</td>\n",
       "      <td>0</td>\n",
       "      <td>1</td>\n",
       "      <td>1</td>\n",
       "      <td>0</td>\n",
       "    </tr>\n",
       "    <tr>\n",
       "      <th>61885</th>\n",
       "      <td>a59a5cc770bc5beb</td>\n",
       "      <td>Bible Society \\n\\nI`m fed up with Catholics as...</td>\n",
       "      <td>1</td>\n",
       "      <td>0</td>\n",
       "      <td>0</td>\n",
       "      <td>0</td>\n",
       "      <td>0</td>\n",
       "      <td>1</td>\n",
       "      <td>0</td>\n",
       "    </tr>\n",
       "    <tr>\n",
       "      <th>78076</th>\n",
       "      <td>d0ff6e22cfda49f0</td>\n",
       "      <td>Oh look a fucking islamist with admin powers f...</td>\n",
       "      <td>1</td>\n",
       "      <td>1</td>\n",
       "      <td>1</td>\n",
       "      <td>0</td>\n",
       "      <td>1</td>\n",
       "      <td>1</td>\n",
       "      <td>0</td>\n",
       "    </tr>\n",
       "  </tbody>\n",
       "</table>\n",
       "</div>"
      ],
      "text/plain": [
       "                      id                                       comment_text  \\\n",
       "116553  6f0c4b9a1b4b6eae           , also: Favonian is a super-huge faggot.   \n",
       "61885   a59a5cc770bc5beb  Bible Society \\n\\nI`m fed up with Catholics as...   \n",
       "78076   d0ff6e22cfda49f0  Oh look a fucking islamist with admin powers f...   \n",
       "\n",
       "        toxic  severe_toxic  obscene  threat  insult  identity_hate  non-toxic  \n",
       "116553      1             0        1       0       1              1          0  \n",
       "61885       1             0        0       0       0              1          0  \n",
       "78076       1             1        1       0       1              1          0  "
      ]
     },
     "execution_count": 6,
     "metadata": {},
     "output_type": "execute_result"
    }
   ],
   "source": [
    "train.loc[train['identity_hate'] == 1].sample(3)"
   ]
  },
  {
   "cell_type": "code",
   "execution_count": 7,
   "metadata": {},
   "outputs": [
    {
     "data": {
      "text/plain": [
       "(159571, 9)"
      ]
     },
     "execution_count": 7,
     "metadata": {},
     "output_type": "execute_result"
    }
   ],
   "source": [
    "train.shape"
   ]
  },
  {
   "cell_type": "code",
   "execution_count": 8,
   "metadata": {},
   "outputs": [
    {
     "data": {
      "text/html": [
       "<div>\n",
       "<style scoped>\n",
       "    .dataframe tbody tr th:only-of-type {\n",
       "        vertical-align: middle;\n",
       "    }\n",
       "\n",
       "    .dataframe tbody tr th {\n",
       "        vertical-align: top;\n",
       "    }\n",
       "\n",
       "    .dataframe thead th {\n",
       "        text-align: right;\n",
       "    }\n",
       "</style>\n",
       "<table border=\"1\" class=\"dataframe\">\n",
       "  <thead>\n",
       "    <tr style=\"text-align: right;\">\n",
       "      <th></th>\n",
       "      <th>id</th>\n",
       "      <th>comment_text</th>\n",
       "    </tr>\n",
       "  </thead>\n",
       "  <tbody>\n",
       "    <tr>\n",
       "      <th>121436</th>\n",
       "      <td>cad4ecb4914d6bb8</td>\n",
       "      <td>: What the hell are you talking about? I haven...</td>\n",
       "    </tr>\n",
       "    <tr>\n",
       "      <th>91527</th>\n",
       "      <td>9896453afccd9cd0</td>\n",
       "      <td>:::::No I just missed out a source (the above ...</td>\n",
       "    </tr>\n",
       "    <tr>\n",
       "      <th>26070</th>\n",
       "      <td>2b6653fd6affa749</td>\n",
       "      <td>:::If people think I am doing a shitty job, th...</td>\n",
       "    </tr>\n",
       "  </tbody>\n",
       "</table>\n",
       "</div>"
      ],
      "text/plain": [
       "                      id                                       comment_text\n",
       "121436  cad4ecb4914d6bb8  : What the hell are you talking about? I haven...\n",
       "91527   9896453afccd9cd0  :::::No I just missed out a source (the above ...\n",
       "26070   2b6653fd6affa749  :::If people think I am doing a shitty job, th..."
      ]
     },
     "execution_count": 8,
     "metadata": {},
     "output_type": "execute_result"
    }
   ],
   "source": [
    "test.sample(3)"
   ]
  },
  {
   "cell_type": "code",
   "execution_count": 9,
   "metadata": {},
   "outputs": [],
   "source": [
    "train_text = train['comment_text']\n",
    "test_text = test['comment_text']"
   ]
  },
  {
   "cell_type": "markdown",
   "metadata": {},
   "source": [
    "Fit a word vectorizer on all the comments we have at hand."
   ]
  },
  {
   "cell_type": "code",
   "execution_count": 10,
   "metadata": {},
   "outputs": [],
   "source": [
    "word_vectorizer = TfidfVectorizer(\n",
    "    sublinear_tf=True,\n",
    "    strip_accents='unicode',\n",
    "    analyzer='word',\n",
    "    token_pattern=r'\\w{1,}',\n",
    "    stop_words='english',\n",
    "    ngram_range=(1, 1),\n",
    "    max_features=10000\n",
    ")\n",
    "word_vectorizer.fit(train_text)\n",
    "\n",
    "train_word_features = word_vectorizer.transform(train_text)\n",
    "test_word_features = word_vectorizer.transform(test_text)"
   ]
  },
  {
   "cell_type": "code",
   "execution_count": 11,
   "metadata": {},
   "outputs": [
    {
     "data": {
      "text/plain": [
       "{'0': 0, 'collins': 2039, 'diseases': 2950}"
      ]
     },
     "execution_count": 11,
     "metadata": {},
     "output_type": "execute_result"
    }
   ],
   "source": [
    "{k: v for k, v in word_vectorizer.vocabulary_.items() if v in [0, 2039, 2950]}"
   ]
  },
  {
   "cell_type": "markdown",
   "metadata": {},
   "source": [
    "Fit a character vectorizer on all the comments we have at hand."
   ]
  },
  {
   "cell_type": "code",
   "execution_count": 12,
   "metadata": {},
   "outputs": [],
   "source": [
    "char_vectorizer = TfidfVectorizer(\n",
    "    sublinear_tf=True,\n",
    "    strip_accents='unicode',\n",
    "    analyzer='char',\n",
    "    stop_words='english',\n",
    "    ngram_range=(2, 4),\n",
    "    max_features=20000\n",
    ")\n",
    "char_vectorizer.fit(train_text)\n",
    "\n",
    "train_char_features = char_vectorizer.transform(train_text)\n",
    "test_char_features = char_vectorizer.transform(test_text)"
   ]
  },
  {
   "cell_type": "code",
   "execution_count": 13,
   "metadata": {},
   "outputs": [
    {
     "data": {
      "text/plain": [
       "{'/or ': 2950, '\"i ': 2039, '\\n\"': 0}"
      ]
     },
     "execution_count": 13,
     "metadata": {},
     "output_type": "execute_result"
    }
   ],
   "source": [
    "{k: v for k, v in char_vectorizer.vocabulary_.items() if v in [0, 2039, 2950]}"
   ]
  },
  {
   "cell_type": "markdown",
   "metadata": {},
   "source": [
    "Combine char and word features."
   ]
  },
  {
   "cell_type": "code",
   "execution_count": 14,
   "metadata": {},
   "outputs": [],
   "source": [
    "train_features = hstack([train_char_features, train_word_features])\n",
    "test_features = hstack([test_char_features, test_word_features])"
   ]
  },
  {
   "cell_type": "code",
   "execution_count": 15,
   "metadata": {},
   "outputs": [
    {
     "data": {
      "text/plain": [
       "((159571, 30000), (153164, 30000))"
      ]
     },
     "execution_count": 15,
     "metadata": {},
     "output_type": "execute_result"
    }
   ],
   "source": [
    "train_features.get_shape(), test_features.get_shape()"
   ]
  },
  {
   "cell_type": "code",
   "execution_count": 16,
   "metadata": {},
   "outputs": [
    {
     "data": {
      "text/plain": [
       "['\\n\"']"
      ]
     },
     "execution_count": 16,
     "metadata": {},
     "output_type": "execute_result"
    }
   ],
   "source": [
    "[k for k, v in char_vectorizer.vocabulary_.items() if v == 0]"
   ]
  },
  {
   "cell_type": "code",
   "execution_count": 17,
   "metadata": {},
   "outputs": [
    {
     "data": {
      "text/plain": [
       "True     158395\n",
       "False      1176\n",
       "dtype: int64"
      ]
     },
     "execution_count": 17,
     "metadata": {},
     "output_type": "execute_result"
    }
   ],
   "source": [
    "(pd.Series(train_features.getcol(0).toarray().reshape(-1)) == 0).value_counts()"
   ]
  },
  {
   "cell_type": "markdown",
   "metadata": {},
   "source": [
    "Perform cross-validation."
   ]
  },
  {
   "cell_type": "code",
   "execution_count": 18,
   "metadata": {},
   "outputs": [],
   "source": [
    "models = {}\n",
    "\n",
    "for class_name in CLASS_NAMES:\n",
    "    train_target = train[class_name]\n",
    "    classifier = LogisticRegressionCV(Cs=[0.1], cv=5, dual=False, scoring='roc_auc', solver='sag')\n",
    "    classifier.fit(train_features, train_target)\n",
    "    models[class_name] = classifier\n"
   ]
  },
  {
   "cell_type": "code",
   "execution_count": 19,
   "metadata": {},
   "outputs": [
    {
     "data": {
      "text/plain": [
       "{'toxic': LogisticRegressionCV(Cs=[0.1], class_weight=None, cv=5, dual=False,\n",
       "            fit_intercept=True, intercept_scaling=1.0, max_iter=100,\n",
       "            multi_class='ovr', n_jobs=1, penalty='l2', random_state=None,\n",
       "            refit=True, scoring='roc_auc', solver='sag', tol=0.0001,\n",
       "            verbose=0),\n",
       " 'severe_toxic': LogisticRegressionCV(Cs=[0.1], class_weight=None, cv=5, dual=False,\n",
       "            fit_intercept=True, intercept_scaling=1.0, max_iter=100,\n",
       "            multi_class='ovr', n_jobs=1, penalty='l2', random_state=None,\n",
       "            refit=True, scoring='roc_auc', solver='sag', tol=0.0001,\n",
       "            verbose=0),\n",
       " 'obscene': LogisticRegressionCV(Cs=[0.1], class_weight=None, cv=5, dual=False,\n",
       "            fit_intercept=True, intercept_scaling=1.0, max_iter=100,\n",
       "            multi_class='ovr', n_jobs=1, penalty='l2', random_state=None,\n",
       "            refit=True, scoring='roc_auc', solver='sag', tol=0.0001,\n",
       "            verbose=0),\n",
       " 'threat': LogisticRegressionCV(Cs=[0.1], class_weight=None, cv=5, dual=False,\n",
       "            fit_intercept=True, intercept_scaling=1.0, max_iter=100,\n",
       "            multi_class='ovr', n_jobs=1, penalty='l2', random_state=None,\n",
       "            refit=True, scoring='roc_auc', solver='sag', tol=0.0001,\n",
       "            verbose=0),\n",
       " 'insult': LogisticRegressionCV(Cs=[0.1], class_weight=None, cv=5, dual=False,\n",
       "            fit_intercept=True, intercept_scaling=1.0, max_iter=100,\n",
       "            multi_class='ovr', n_jobs=1, penalty='l2', random_state=None,\n",
       "            refit=True, scoring='roc_auc', solver='sag', tol=0.0001,\n",
       "            verbose=0),\n",
       " 'identity_hate': LogisticRegressionCV(Cs=[0.1], class_weight=None, cv=5, dual=False,\n",
       "            fit_intercept=True, intercept_scaling=1.0, max_iter=100,\n",
       "            multi_class='ovr', n_jobs=1, penalty='l2', random_state=None,\n",
       "            refit=True, scoring='roc_auc', solver='sag', tol=0.0001,\n",
       "            verbose=0)}"
      ]
     },
     "execution_count": 19,
     "metadata": {},
     "output_type": "execute_result"
    }
   ],
   "source": [
    "models"
   ]
  },
  {
   "cell_type": "code",
   "execution_count": 21,
   "metadata": {},
   "outputs": [
    {
     "name": "stdout",
     "output_type": "stream",
     "text": [
      "toxic mean AUC: 0.9716822748025434\n",
      "severe_toxic mean AUC: 0.9877692022032903\n",
      "obscene mean AUC: 0.9862245082036958\n",
      "threat mean AUC: 0.9833539302545962\n",
      "insult mean AUC: 0.9789688925544802\n",
      "identity_hate mean AUC: 0.9760728765223655\n"
     ]
    }
   ],
   "source": [
    "for class_name in CLASS_NAMES:\n",
    "    print('{} mean AUC: {}'.format(\n",
    "        class_name, \n",
    "        np.mean(np.array(models[class_name].scores_[1].reshape(-1)))\n",
    "    ))"
   ]
  },
  {
   "cell_type": "markdown",
   "metadata": {},
   "source": [
    "Serialise the model and vectorizers for later usage."
   ]
  },
  {
   "cell_type": "code",
   "execution_count": 22,
   "metadata": {},
   "outputs": [],
   "source": [
    "model_dict = {\n",
    "    'word_vectorizer': word_vectorizer,\n",
    "    'char_vectorizer': char_vectorizer,\n",
    "    'models': models\n",
    "}"
   ]
  },
  {
   "cell_type": "code",
   "execution_count": 23,
   "metadata": {},
   "outputs": [
    {
     "name": "stdout",
     "output_type": "stream",
     "text": [
      "4.0\n",
      "0.19.1\n"
     ]
    }
   ],
   "source": [
    "import pickle\n",
    "import sklearn\n",
    "print(pickle.format_version)\n",
    "print(sklearn.__version__)\n",
    "with open('models/models_dict.pkl', 'wb') as f:\n",
    "    pickle.dump(model_dict, f)"
   ]
  },
  {
   "cell_type": "markdown",
   "metadata": {},
   "source": [
    "Freeze current environment to requirements file so that we know what package versions were used."
   ]
  },
  {
   "cell_type": "code",
   "execution_count": 25,
   "metadata": {},
   "outputs": [],
   "source": [
    "!pip freeze > requirements.txt"
   ]
  },
  {
   "cell_type": "markdown",
   "metadata": {},
   "source": [
    "### Check out the predictions"
   ]
  },
  {
   "cell_type": "code",
   "execution_count": 26,
   "metadata": {},
   "outputs": [],
   "source": [
    "def classify_comment(comment, word_vectorizer, char_vectorizer, models, probability=False, return_df=False):\n",
    "    \"\"\"\n",
    "    :param comment: a string, the raw data to score\n",
    "    \"\"\"\n",
    "    word_features = word_vectorizer.transform([comment])\n",
    "    char_features = char_vectorizer.transform([comment])\n",
    "    combined_features = hstack([char_features, word_features])\n",
    "    \n",
    "    prediction = {}\n",
    "    for class_name, model in models.items():\n",
    "        if probability:\n",
    "            # Take the positive class probability prediction\n",
    "            class_prediction = model.predict_proba(combined_features)[0][1]\n",
    "        else:\n",
    "            class_prediction = model.predict(combined_features)[0]\n",
    "            \n",
    "        prediction[class_name] = [class_prediction]\n",
    "    \n",
    "    if return_df:\n",
    "        return  pd.DataFrame(prediction)\n",
    "    else:\n",
    "        return prediction\n"
   ]
  },
  {
   "cell_type": "code",
   "execution_count": 27,
   "metadata": {},
   "outputs": [
    {
     "data": {
      "text/plain": [
       "'COCKSUCKER BEFORE YOU PISS AROUND ON MY WORK'"
      ]
     },
     "execution_count": 27,
     "metadata": {},
     "output_type": "execute_result"
    }
   ],
   "source": [
    "train.loc[6, 'comment_text']"
   ]
  },
  {
   "cell_type": "code",
   "execution_count": 28,
   "metadata": {},
   "outputs": [
    {
     "data": {
      "text/plain": [
       "{'toxic': [1],\n",
       " 'severe_toxic': [0],\n",
       " 'obscene': [1],\n",
       " 'threat': [0],\n",
       " 'insult': [1],\n",
       " 'identity_hate': [0]}"
      ]
     },
     "execution_count": 28,
     "metadata": {},
     "output_type": "execute_result"
    }
   ],
   "source": [
    "classify_comment(train.loc[6, 'comment_text'], word_vectorizer, char_vectorizer, models)"
   ]
  },
  {
   "cell_type": "code",
   "execution_count": 29,
   "metadata": {},
   "outputs": [
    {
     "data": {
      "text/plain": [
       "{'toxic': [0.8584919854037931],\n",
       " 'severe_toxic': [0.07667526478047337],\n",
       " 'obscene': [0.6610412921623507],\n",
       " 'threat': [0.006207957832143269],\n",
       " 'insult': [0.5310375271086397],\n",
       " 'identity_hate': [0.017715534905842184]}"
      ]
     },
     "execution_count": 29,
     "metadata": {},
     "output_type": "execute_result"
    }
   ],
   "source": [
    "classify_comment(train.loc[6, 'comment_text'], word_vectorizer, char_vectorizer, models, probability=True)"
   ]
  },
  {
   "cell_type": "code",
   "execution_count": 30,
   "metadata": {},
   "outputs": [
    {
     "data": {
      "text/html": [
       "<div>\n",
       "<style scoped>\n",
       "    .dataframe tbody tr th:only-of-type {\n",
       "        vertical-align: middle;\n",
       "    }\n",
       "\n",
       "    .dataframe tbody tr th {\n",
       "        vertical-align: top;\n",
       "    }\n",
       "\n",
       "    .dataframe thead th {\n",
       "        text-align: right;\n",
       "    }\n",
       "</style>\n",
       "<table border=\"1\" class=\"dataframe\">\n",
       "  <thead>\n",
       "    <tr style=\"text-align: right;\">\n",
       "      <th></th>\n",
       "      <th>toxic</th>\n",
       "      <th>severe_toxic</th>\n",
       "      <th>obscene</th>\n",
       "      <th>threat</th>\n",
       "      <th>insult</th>\n",
       "      <th>identity_hate</th>\n",
       "    </tr>\n",
       "  </thead>\n",
       "  <tbody>\n",
       "    <tr>\n",
       "      <th>0</th>\n",
       "      <td>0.858492</td>\n",
       "      <td>0.076675</td>\n",
       "      <td>0.661041</td>\n",
       "      <td>0.006208</td>\n",
       "      <td>0.531038</td>\n",
       "      <td>0.017716</td>\n",
       "    </tr>\n",
       "  </tbody>\n",
       "</table>\n",
       "</div>"
      ],
      "text/plain": [
       "      toxic  severe_toxic   obscene    threat    insult  identity_hate\n",
       "0  0.858492      0.076675  0.661041  0.006208  0.531038       0.017716"
      ]
     },
     "execution_count": 30,
     "metadata": {},
     "output_type": "execute_result"
    }
   ],
   "source": [
    "classify_comment(train.loc[6, 'comment_text'], word_vectorizer, char_vectorizer, models, probability=True, return_df=True)"
   ]
  },
  {
   "cell_type": "markdown",
   "metadata": {},
   "source": [
    "## Look at our model probability distributions"
   ]
  },
  {
   "cell_type": "code",
   "execution_count": 31,
   "metadata": {},
   "outputs": [],
   "source": [
    "all_text = pd.concat([train_text, test_text], axis=0)"
   ]
  },
  {
   "cell_type": "code",
   "execution_count": 32,
   "metadata": {},
   "outputs": [],
   "source": [
    "def score_all(comments, word_vectorizer, char_vectorizer, models, probability=False):\n",
    "    \"\"\"\n",
    "    :param comments: a numpy array or pandas `Series` of comments.\n",
    "    \"\"\"\n",
    "    word_features = word_vectorizer.transform(comments)\n",
    "    char_features = char_vectorizer.transform(comments)\n",
    "    combined_features = hstack([char_features, word_features])\n",
    "    \n",
    "    predictions = {}\n",
    "    for class_name, model in models.items():\n",
    "        if probability:\n",
    "            # Take the positive class probability prediction\n",
    "            class_predictions = model.predict_proba(combined_features)[:, 1]\n",
    "        else:\n",
    "            class_predictions = model.predict(combined_features)\n",
    "            \n",
    "        predictions[class_name] = class_predictions\n",
    "        \n",
    "    return pd.DataFrame(predictions)"
   ]
  },
  {
   "cell_type": "code",
   "execution_count": 33,
   "metadata": {},
   "outputs": [],
   "source": [
    "probs = score_all(all_text, word_vectorizer, char_vectorizer, models, probability=True)"
   ]
  },
  {
   "cell_type": "code",
   "execution_count": 34,
   "metadata": {},
   "outputs": [],
   "source": [
    "labels = score_all(all_text, word_vectorizer, char_vectorizer, models, probability=False)"
   ]
  },
  {
   "cell_type": "code",
   "execution_count": 35,
   "metadata": {},
   "outputs": [],
   "source": [
    "all_text = pd.concat(\n",
    "    [\n",
    "        all_text.reset_index(drop=True),\n",
    "        probs.reset_index(drop=True),\n",
    "        labels.reset_index(drop=True)\n",
    "    ],\n",
    "    axis=1\n",
    ")"
   ]
  },
  {
   "cell_type": "code",
   "execution_count": 36,
   "metadata": {},
   "outputs": [],
   "source": [
    "all_text.columns = ['comment_text'] + [x+'_prob' for x in CLASS_NAMES] + [x+'_pred' for x in CLASS_NAMES]"
   ]
  },
  {
   "cell_type": "code",
   "execution_count": 37,
   "metadata": {},
   "outputs": [
    {
     "data": {
      "text/html": [
       "<div>\n",
       "<style scoped>\n",
       "    .dataframe tbody tr th:only-of-type {\n",
       "        vertical-align: middle;\n",
       "    }\n",
       "\n",
       "    .dataframe tbody tr th {\n",
       "        vertical-align: top;\n",
       "    }\n",
       "\n",
       "    .dataframe thead th {\n",
       "        text-align: right;\n",
       "    }\n",
       "</style>\n",
       "<table border=\"1\" class=\"dataframe\">\n",
       "  <thead>\n",
       "    <tr style=\"text-align: right;\">\n",
       "      <th></th>\n",
       "      <th>comment_text</th>\n",
       "      <th>toxic_prob</th>\n",
       "      <th>severe_toxic_prob</th>\n",
       "      <th>obscene_prob</th>\n",
       "      <th>threat_prob</th>\n",
       "      <th>insult_prob</th>\n",
       "      <th>identity_hate_prob</th>\n",
       "      <th>toxic_pred</th>\n",
       "      <th>severe_toxic_pred</th>\n",
       "      <th>obscene_pred</th>\n",
       "      <th>threat_pred</th>\n",
       "      <th>insult_pred</th>\n",
       "      <th>identity_hate_pred</th>\n",
       "    </tr>\n",
       "  </thead>\n",
       "  <tbody>\n",
       "    <tr>\n",
       "      <th>290443</th>\n",
       "      <td>== Due date == \\n\\n Hey guys the due date is c...</td>\n",
       "      <td>0.035490</td>\n",
       "      <td>0.003913</td>\n",
       "      <td>0.018520</td>\n",
       "      <td>0.003088</td>\n",
       "      <td>0.014319</td>\n",
       "      <td>0.005630</td>\n",
       "      <td>0</td>\n",
       "      <td>0</td>\n",
       "      <td>0</td>\n",
       "      <td>0</td>\n",
       "      <td>0</td>\n",
       "      <td>0</td>\n",
       "    </tr>\n",
       "    <tr>\n",
       "      <th>111116</th>\n",
       "      <td>If you look up, just a couple of inches on you...</td>\n",
       "      <td>0.065802</td>\n",
       "      <td>0.002744</td>\n",
       "      <td>0.022720</td>\n",
       "      <td>0.002673</td>\n",
       "      <td>0.021128</td>\n",
       "      <td>0.003270</td>\n",
       "      <td>0</td>\n",
       "      <td>0</td>\n",
       "      <td>0</td>\n",
       "      <td>0</td>\n",
       "      <td>0</td>\n",
       "      <td>0</td>\n",
       "    </tr>\n",
       "    <tr>\n",
       "      <th>55063</th>\n",
       "      <td>Here's a link to Lupin WP:LAVT</td>\n",
       "      <td>0.026233</td>\n",
       "      <td>0.003824</td>\n",
       "      <td>0.013948</td>\n",
       "      <td>0.001921</td>\n",
       "      <td>0.013626</td>\n",
       "      <td>0.005082</td>\n",
       "      <td>0</td>\n",
       "      <td>0</td>\n",
       "      <td>0</td>\n",
       "      <td>0</td>\n",
       "      <td>0</td>\n",
       "      <td>0</td>\n",
       "    </tr>\n",
       "  </tbody>\n",
       "</table>\n",
       "</div>"
      ],
      "text/plain": [
       "                                             comment_text  toxic_prob  \\\n",
       "290443  == Due date == \\n\\n Hey guys the due date is c...    0.035490   \n",
       "111116  If you look up, just a couple of inches on you...    0.065802   \n",
       "55063                      Here's a link to Lupin WP:LAVT    0.026233   \n",
       "\n",
       "        severe_toxic_prob  obscene_prob  threat_prob  insult_prob  \\\n",
       "290443           0.003913      0.018520     0.003088     0.014319   \n",
       "111116           0.002744      0.022720     0.002673     0.021128   \n",
       "55063            0.003824      0.013948     0.001921     0.013626   \n",
       "\n",
       "        identity_hate_prob  toxic_pred  severe_toxic_pred  obscene_pred  \\\n",
       "290443            0.005630           0                  0             0   \n",
       "111116            0.003270           0                  0             0   \n",
       "55063             0.005082           0                  0             0   \n",
       "\n",
       "        threat_pred  insult_pred  identity_hate_pred  \n",
       "290443            0            0                   0  \n",
       "111116            0            0                   0  \n",
       "55063             0            0                   0  "
      ]
     },
     "execution_count": 37,
     "metadata": {},
     "output_type": "execute_result"
    }
   ],
   "source": [
    "all_text.sample(3)"
   ]
  },
  {
   "cell_type": "code",
   "execution_count": 38,
   "metadata": {},
   "outputs": [],
   "source": [
    "import matplotlib.pyplot as plt"
   ]
  },
  {
   "cell_type": "code",
   "execution_count": 39,
   "metadata": {},
   "outputs": [
    {
     "data": {
      "image/png": "[encoded data removed]",
      "text/plain": [
       "<Figure size 720x2160 with 6 Axes>"
      ]
     },
     "metadata": {},
     "output_type": "display_data"
    }
   ],
   "source": [
    "_, ax = plt.subplots(len(CLASS_NAMES), 1, figsize=(10,5*len(CLASS_NAMES)))\n",
    "\n",
    "for i, class_name in enumerate(CLASS_NAMES):\n",
    "    all_text[class_name+'_prob'].plot(kind='hist', bins=100, ax=ax[i])\n",
    "    ax[i].set_title('Probability distribution for {}'.format(class_name))\n",
    "\n",
    "plt.show()"
   ]
  },
  {
   "cell_type": "code",
   "execution_count": null,
   "metadata": {},
   "outputs": [],
   "source": []
  }
 ],
 "metadata": {
  "kernelspec": {
   "display_name": "Python 3",
   "language": "python",
   "name": "python3"
  },
  "language_info": {
   "codemirror_mode": {
    "name": "ipython",
    "version": 3
   },
   "file_extension": ".py",
   "mimetype": "text/x-python",
   "name": "python",
   "nbconvert_exporter": "python",
   "pygments_lexer": "ipython3",
   "version": "3.6.5"
  }
 },
 "nbformat": 4,
 "nbformat_minor": 4
}
