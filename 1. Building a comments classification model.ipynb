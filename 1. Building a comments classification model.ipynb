{
 "cells": [
  {
   "cell_type": "markdown",
   "metadata": {},
   "source": [
    "# Building a comments classification mode\n",
    "For each class, we build a Logistic Regression model with TF-IDF features. Data taken from Kaggle: [https://www.kaggle.com/c/jigsaw-toxic-comment-classification-challenge/data](https://www.kaggle.com/c/jigsaw-toxic-comment-classification-challenge/data).\n"
   ]
  },
  {
   "cell_type": "code",
   "execution_count": null,
   "metadata": {},
   "outputs": [],
   "source": [
    "import numpy as np\n",
    "import pandas as pd\n",
    "\n",
    "from sklearn.feature_extraction.text import TfidfVectorizer\n",
    "from sklearn.linear_model import LogisticRegression, LogisticRegressionCV\n",
    "from sklearn.model_selection import cross_val_score\n",
    "from scipy.sparse import hstack"
   ]
  },
  {
   "cell_type": "code",
   "execution_count": 2,
   "metadata": {},
   "outputs": [],
   "source": [
    "CLASS_NAMES = ['toxic', 'severe_toxic', 'obscene', 'threat', 'insult', 'identity_hate']"
   ]
  },
  {
   "cell_type": "markdown",
   "metadata": {},
   "source": [
    "We start with data from Kaggle:"
   ]
  },
  {
   "cell_type": "code",
   "execution_count": 3,
   "metadata": {},
   "outputs": [],
   "source": [
    "train = pd.read_csv('data/train.csv').fillna(' ')\n",
    "test = pd.read_csv('data/test.csv').fillna(' ')\n",
    "test_labels = pd.read_csv('data/test_labels.csv').fillna(' ')"
   ]
  },
  {
   "cell_type": "code",
   "execution_count": 4,
   "metadata": {},
   "outputs": [],
   "source": [
    "train['non-toxic'] = (~train[CLASS_NAMES].any(axis=1)).astype(int)"
   ]
  },
  {
   "cell_type": "code",
   "execution_count": 5,
   "metadata": {},
   "outputs": [
    {
     "data": {
      "text/html": [
       "<div>\n",
       "<style scoped>\n",
       "    .dataframe tbody tr th:only-of-type {\n",
       "        vertical-align: middle;\n",
       "    }\n",
       "\n",
       "    .dataframe tbody tr th {\n",
       "        vertical-align: top;\n",
       "    }\n",
       "\n",
       "    .dataframe thead th {\n",
       "        text-align: right;\n",
       "    }\n",
       "</style>\n",
       "<table border=\"1\" class=\"dataframe\">\n",
       "  <thead>\n",
       "    <tr style=\"text-align: right;\">\n",
       "      <th></th>\n",
       "      <th>id</th>\n",
       "      <th>comment_text</th>\n",
       "      <th>toxic</th>\n",
       "      <th>severe_toxic</th>\n",
       "      <th>obscene</th>\n",
       "      <th>threat</th>\n",
       "      <th>insult</th>\n",
       "      <th>identity_hate</th>\n",
       "      <th>non-toxic</th>\n",
       "    </tr>\n",
       "  </thead>\n",
       "  <tbody>\n",
       "    <tr>\n",
       "      <th>135949</th>\n",
       "      <td>d730d7fd1acae98b</td>\n",
       "      <td>Do not re-add spam links again.  Thank you.  P...</td>\n",
       "      <td>0</td>\n",
       "      <td>0</td>\n",
       "      <td>0</td>\n",
       "      <td>0</td>\n",
       "      <td>0</td>\n",
       "      <td>0</td>\n",
       "      <td>1</td>\n",
       "    </tr>\n",
       "    <tr>\n",
       "      <th>18168</th>\n",
       "      <td>30009f769a6c8559</td>\n",
       "      <td>October 2008 (UTC)\\n\\nLangdell, you can not le...</td>\n",
       "      <td>0</td>\n",
       "      <td>0</td>\n",
       "      <td>0</td>\n",
       "      <td>0</td>\n",
       "      <td>0</td>\n",
       "      <td>0</td>\n",
       "      <td>1</td>\n",
       "    </tr>\n",
       "    <tr>\n",
       "      <th>42577</th>\n",
       "      <td>719ebfbea89fec49</td>\n",
       "      <td>People like you are the problem, Brangifer.  Y...</td>\n",
       "      <td>0</td>\n",
       "      <td>0</td>\n",
       "      <td>0</td>\n",
       "      <td>0</td>\n",
       "      <td>0</td>\n",
       "      <td>0</td>\n",
       "      <td>1</td>\n",
       "    </tr>\n",
       "  </tbody>\n",
       "</table>\n",
       "</div>"
      ],
      "text/plain": [
       "                      id                                       comment_text  \\\n",
       "135949  d730d7fd1acae98b  Do not re-add spam links again.  Thank you.  P...   \n",
       "18168   30009f769a6c8559  October 2008 (UTC)\\n\\nLangdell, you can not le...   \n",
       "42577   719ebfbea89fec49  People like you are the problem, Brangifer.  Y...   \n",
       "\n",
       "        toxic  severe_toxic  obscene  threat  insult  identity_hate  non-toxic  \n",
       "135949      0             0        0       0       0              0          1  \n",
       "18168       0             0        0       0       0              0          1  \n",
       "42577       0             0        0       0       0              0          1  "
      ]
     },
     "execution_count": 5,
     "metadata": {},
     "output_type": "execute_result"
    }
   ],
   "source": [
    "train.sample(3)"
   ]
  },
  {
   "cell_type": "code",
   "execution_count": 6,
   "metadata": {},
   "outputs": [
    {
     "data": {
      "text/html": [
       "<div>\n",
       "<style scoped>\n",
       "    .dataframe tbody tr th:only-of-type {\n",
       "        vertical-align: middle;\n",
       "    }\n",
       "\n",
       "    .dataframe tbody tr th {\n",
       "        vertical-align: top;\n",
       "    }\n",
       "\n",
       "    .dataframe thead th {\n",
       "        text-align: right;\n",
       "    }\n",
       "</style>\n",
       "<table border=\"1\" class=\"dataframe\">\n",
       "  <thead>\n",
       "    <tr style=\"text-align: right;\">\n",
       "      <th></th>\n",
       "      <th>id</th>\n",
       "      <th>comment_text</th>\n",
       "      <th>toxic</th>\n",
       "      <th>severe_toxic</th>\n",
       "      <th>obscene</th>\n",
       "      <th>threat</th>\n",
       "      <th>insult</th>\n",
       "      <th>identity_hate</th>\n",
       "      <th>non-toxic</th>\n",
       "    </tr>\n",
       "  </thead>\n",
       "  <tbody>\n",
       "    <tr>\n",
       "      <th>130910</th>\n",
       "      <td>bc7895d8c7b2c54e</td>\n",
       "      <td>\"*a-hem*... \"\"nigger nigger nigger, nigger nig...</td>\n",
       "      <td>1</td>\n",
       "      <td>0</td>\n",
       "      <td>1</td>\n",
       "      <td>0</td>\n",
       "      <td>1</td>\n",
       "      <td>1</td>\n",
       "      <td>0</td>\n",
       "    </tr>\n",
       "    <tr>\n",
       "      <th>130633</th>\n",
       "      <td>bace7305a84ac7c7</td>\n",
       "      <td>fuk you fucked up sinhalese motherfucking assh...</td>\n",
       "      <td>1</td>\n",
       "      <td>1</td>\n",
       "      <td>1</td>\n",
       "      <td>0</td>\n",
       "      <td>1</td>\n",
       "      <td>1</td>\n",
       "      <td>0</td>\n",
       "    </tr>\n",
       "    <tr>\n",
       "      <th>132382</th>\n",
       "      <td>c4647e8a0eb2c11a</td>\n",
       "      <td>Ronald McDonald is gay and he has a fart fetis...</td>\n",
       "      <td>1</td>\n",
       "      <td>0</td>\n",
       "      <td>1</td>\n",
       "      <td>0</td>\n",
       "      <td>1</td>\n",
       "      <td>1</td>\n",
       "      <td>0</td>\n",
       "    </tr>\n",
       "  </tbody>\n",
       "</table>\n",
       "</div>"
      ],
      "text/plain": [
       "                      id                                       comment_text  \\\n",
       "130910  bc7895d8c7b2c54e  \"*a-hem*... \"\"nigger nigger nigger, nigger nig...   \n",
       "130633  bace7305a84ac7c7  fuk you fucked up sinhalese motherfucking assh...   \n",
       "132382  c4647e8a0eb2c11a  Ronald McDonald is gay and he has a fart fetis...   \n",
       "\n",
       "        toxic  severe_toxic  obscene  threat  insult  identity_hate  non-toxic  \n",
       "130910      1             0        1       0       1              1          0  \n",
       "130633      1             1        1       0       1              1          0  \n",
       "132382      1             0        1       0       1              1          0  "
      ]
     },
     "execution_count": 6,
     "metadata": {},
     "output_type": "execute_result"
    }
   ],
   "source": [
    "train.loc[train['identity_hate'] == 1].sample(3)"
   ]
  },
  {
   "cell_type": "code",
   "execution_count": 7,
   "metadata": {},
   "outputs": [
    {
     "data": {
      "text/plain": [
       "(159571, 9)"
      ]
     },
     "execution_count": 7,
     "metadata": {},
     "output_type": "execute_result"
    }
   ],
   "source": [
    "train.shape"
   ]
  },
  {
   "cell_type": "code",
   "execution_count": 8,
   "metadata": {},
   "outputs": [
    {
     "data": {
      "text/html": [
       "<div>\n",
       "<style scoped>\n",
       "    .dataframe tbody tr th:only-of-type {\n",
       "        vertical-align: middle;\n",
       "    }\n",
       "\n",
       "    .dataframe tbody tr th {\n",
       "        vertical-align: top;\n",
       "    }\n",
       "\n",
       "    .dataframe thead th {\n",
       "        text-align: right;\n",
       "    }\n",
       "</style>\n",
       "<table border=\"1\" class=\"dataframe\">\n",
       "  <thead>\n",
       "    <tr style=\"text-align: right;\">\n",
       "      <th></th>\n",
       "      <th>id</th>\n",
       "      <th>comment_text</th>\n",
       "    </tr>\n",
       "  </thead>\n",
       "  <tbody>\n",
       "    <tr>\n",
       "      <th>8269</th>\n",
       "      <td>0dda1ca286c1f35b</td>\n",
       "      <td>\"Dylan Wooley-Berry is a Canadian Collegiate s...</td>\n",
       "    </tr>\n",
       "    <tr>\n",
       "      <th>5730</th>\n",
       "      <td>09af907c9eb2033a</td>\n",
       "      <td>\"== Justin evans == \\n A tag has been placed o...</td>\n",
       "    </tr>\n",
       "    <tr>\n",
       "      <th>101515</th>\n",
       "      <td>a96ca8c91c02ea1c</td>\n",
       "      <td>\" \\n\\n :Cite is now provided. There's no short...</td>\n",
       "    </tr>\n",
       "  </tbody>\n",
       "</table>\n",
       "</div>"
      ],
      "text/plain": [
       "                      id                                       comment_text\n",
       "8269    0dda1ca286c1f35b  \"Dylan Wooley-Berry is a Canadian Collegiate s...\n",
       "5730    09af907c9eb2033a  \"== Justin evans == \\n A tag has been placed o...\n",
       "101515  a96ca8c91c02ea1c  \" \\n\\n :Cite is now provided. There's no short..."
      ]
     },
     "execution_count": 8,
     "metadata": {},
     "output_type": "execute_result"
    }
   ],
   "source": [
    "test.sample(3)"
   ]
  },
  {
   "cell_type": "code",
   "execution_count": 9,
   "metadata": {},
   "outputs": [],
   "source": [
    "train_text = train['comment_text']\n",
    "test_text = test['comment_text']"
   ]
  },
  {
   "cell_type": "markdown",
   "metadata": {},
   "source": [
    "Fit a word vectorizer on all the comments we have at hand."
   ]
  },
  {
   "cell_type": "code",
   "execution_count": 10,
   "metadata": {},
   "outputs": [],
   "source": [
    "word_vectorizer = TfidfVectorizer(\n",
    "    sublinear_tf=True,\n",
    "    strip_accents='unicode',\n",
    "    analyzer='word',\n",
    "    token_pattern=r'\\w{1,}',\n",
    "    stop_words='english',\n",
    "    ngram_range=(1, 1),\n",
    "    max_features=10000\n",
    ")\n",
    "word_vectorizer.fit(train_text)\n",
    "\n",
    "train_word_features = word_vectorizer.transform(train_text)\n",
    "test_word_features = word_vectorizer.transform(test_text)"
   ]
  },
  {
   "cell_type": "code",
   "execution_count": 23,
   "metadata": {},
   "outputs": [
    {
     "data": {
      "text/plain": [
       "{'0': 0, 'collins': 2039, 'diseases': 2950}"
      ]
     },
     "execution_count": 23,
     "metadata": {},
     "output_type": "execute_result"
    }
   ],
   "source": [
    "{k: v for k, v in word_vectorizer.vocabulary_.items() if v in [0, 2039, 2950]}"
   ]
  },
  {
   "cell_type": "markdown",
   "metadata": {},
   "source": [
    "Fit a character vectorizer on all the comments we have at hand."
   ]
  },
  {
   "cell_type": "code",
   "execution_count": 12,
   "metadata": {},
   "outputs": [],
   "source": [
    "char_vectorizer = TfidfVectorizer(\n",
    "    sublinear_tf=True,\n",
    "    strip_accents='unicode',\n",
    "    analyzer='char',\n",
    "    stop_words='english',\n",
    "    ngram_range=(2, 4),\n",
    "    max_features=20000\n",
    ")\n",
    "char_vectorizer.fit(train_text)\n",
    "\n",
    "train_char_features = char_vectorizer.transform(train_text)\n",
    "test_char_features = char_vectorizer.transform(test_text)"
   ]
  },
  {
   "cell_type": "code",
   "execution_count": 24,
   "metadata": {},
   "outputs": [
    {
     "data": {
      "text/plain": [
       "{'/or ': 2950, '\"i ': 2039, '\\n\"': 0}"
      ]
     },
     "execution_count": 24,
     "metadata": {},
     "output_type": "execute_result"
    }
   ],
   "source": [
    "{k: v for k, v in char_vectorizer.vocabulary_.items() if v in [0, 2039, 2950]}"
   ]
  },
  {
   "cell_type": "markdown",
   "metadata": {},
   "source": [
    "Combine char and word features."
   ]
  },
  {
   "cell_type": "code",
   "execution_count": 13,
   "metadata": {},
   "outputs": [],
   "source": [
    "train_features = hstack([train_char_features, train_word_features])\n",
    "test_features = hstack([test_char_features, test_word_features])"
   ]
  },
  {
   "cell_type": "code",
   "execution_count": 17,
   "metadata": {},
   "outputs": [
    {
     "data": {
      "text/plain": [
       "((159571, 30000), (153164, 30000))"
      ]
     },
     "execution_count": 17,
     "metadata": {},
     "output_type": "execute_result"
    }
   ],
   "source": [
    "train_features.get_shape(), test_features.get_shape()"
   ]
  },
  {
   "cell_type": "code",
   "execution_count": 27,
   "metadata": {},
   "outputs": [
    {
     "data": {
      "text/plain": [
       "['\\n\"']"
      ]
     },
     "execution_count": 27,
     "metadata": {},
     "output_type": "execute_result"
    }
   ],
   "source": [
    "[k for k, v in char_vectorizer.vocabulary_.items() if v == 0]"
   ]
  },
  {
   "cell_type": "code",
   "execution_count": 25,
   "metadata": {},
   "outputs": [
    {
     "data": {
      "text/plain": [
       "True     158395\n",
       "False      1176\n",
       "dtype: int64"
      ]
     },
     "execution_count": 25,
     "metadata": {},
     "output_type": "execute_result"
    }
   ],
   "source": [
    "(pd.Series(train_features.getcol(0).toarray().reshape(-1)) == 0).value_counts()"
   ]
  },
  {
   "cell_type": "markdown",
   "metadata": {},
   "source": [
    "Perform cross-validation."
   ]
  },
  {
   "cell_type": "code",
   "execution_count": null,
   "metadata": {},
   "outputs": [],
   "source": [
    "models = {}\n",
    "\n",
    "for class_name in CLASS_NAMES:\n",
    "    train_target = train[class_name]\n",
    "    classifier = LogisticRegressionCV(Cs=[0.1], cv=5, dual=False, scoring='roc_auc', solver='sag')\n",
    "    classifier.fit(train_features, train_target)\n",
    "    models[class_name] = classifier\n"
   ]
  },
  {
   "cell_type": "code",
   "execution_count": 33,
   "metadata": {},
   "outputs": [
    {
     "data": {
      "text/plain": [
       "{'toxic': LogisticRegressionCV(Cs=[0.1], class_weight=None, cv=5, dual=False,\n",
       "            fit_intercept=True, intercept_scaling=1.0, max_iter=100,\n",
       "            multi_class='warn', n_jobs=None, penalty='l2',\n",
       "            random_state=None, refit=True, scoring='roc_auc', solver='sag',\n",
       "            tol=0.0001, verbose=0),\n",
       " 'severe_toxic': LogisticRegressionCV(Cs=[0.1], class_weight=None, cv=5, dual=False,\n",
       "            fit_intercept=True, intercept_scaling=1.0, max_iter=100,\n",
       "            multi_class='warn', n_jobs=None, penalty='l2',\n",
       "            random_state=None, refit=True, scoring='roc_auc', solver='sag',\n",
       "            tol=0.0001, verbose=0),\n",
       " 'obscene': LogisticRegressionCV(Cs=[0.1], class_weight=None, cv=5, dual=False,\n",
       "            fit_intercept=True, intercept_scaling=1.0, max_iter=100,\n",
       "            multi_class='warn', n_jobs=None, penalty='l2',\n",
       "            random_state=None, refit=True, scoring='roc_auc', solver='sag',\n",
       "            tol=0.0001, verbose=0),\n",
       " 'threat': LogisticRegressionCV(Cs=[0.1], class_weight=None, cv=5, dual=False,\n",
       "            fit_intercept=True, intercept_scaling=1.0, max_iter=100,\n",
       "            multi_class='warn', n_jobs=None, penalty='l2',\n",
       "            random_state=None, refit=True, scoring='roc_auc', solver='sag',\n",
       "            tol=0.0001, verbose=0),\n",
       " 'insult': LogisticRegressionCV(Cs=[0.1], class_weight=None, cv=5, dual=False,\n",
       "            fit_intercept=True, intercept_scaling=1.0, max_iter=100,\n",
       "            multi_class='warn', n_jobs=None, penalty='l2',\n",
       "            random_state=None, refit=True, scoring='roc_auc', solver='sag',\n",
       "            tol=0.0001, verbose=0),\n",
       " 'identity_hate': LogisticRegressionCV(Cs=[0.1], class_weight=None, cv=5, dual=False,\n",
       "            fit_intercept=True, intercept_scaling=1.0, max_iter=100,\n",
       "            multi_class='warn', n_jobs=None, penalty='l2',\n",
       "            random_state=None, refit=True, scoring='roc_auc', solver='sag',\n",
       "            tol=0.0001, verbose=0)}"
      ]
     },
     "execution_count": 33,
     "metadata": {},
     "output_type": "execute_result"
    }
   ],
   "source": [
    "models"
   ]
  },
  {
   "cell_type": "code",
   "execution_count": 53,
   "metadata": {},
   "outputs": [
    {
     "data": {
      "text/plain": [
       "array([0.9724251 , 0.97258355, 0.97069525, 0.97141919, 0.97128841])"
      ]
     },
     "execution_count": 53,
     "metadata": {},
     "output_type": "execute_result"
    }
   ],
   "source": [
    "m.scores_[1].reshape(-1)"
   ]
  },
  {
   "cell_type": "code",
   "execution_count": 55,
   "metadata": {},
   "outputs": [
    {
     "name": "stdout",
     "output_type": "stream",
     "text": [
      "toxic mean AUC: 0.971682299732801\n",
      "severe_toxic mean AUC: 0.9877693212643962\n",
      "obscene mean AUC: 0.9862245238251386\n",
      "threat mean AUC: 0.98335366420886\n",
      "insult mean AUC: 0.9789689302246039\n",
      "identity_hate mean AUC: 0.9760638090125587\n"
     ]
    }
   ],
   "source": [
    "for class_name in CLASS_NAMES:\n",
    "    print('{} mean AUC: {}'.format(\n",
    "        class_name, \n",
    "        np.mean(np.array(models[class_name].scores_[1].reshape(-1)))\n",
    "    ))"
   ]
  },
  {
   "cell_type": "markdown",
   "metadata": {},
   "source": [
    "Serialise the model and vectorizers for later usage."
   ]
  },
  {
   "cell_type": "code",
   "execution_count": 58,
   "metadata": {},
   "outputs": [],
   "source": [
    "model_dict = {\n",
    "    'word_vectorizer': word_vectorizer,\n",
    "    'char_vectorizer': char_vectorizer,\n",
    "    'models': models\n",
    "}"
   ]
  },
  {
   "cell_type": "code",
   "execution_count": 190,
   "metadata": {},
   "outputs": [
    {
     "name": "stdout",
     "output_type": "stream",
     "text": [
      "4.0\n",
      "0.20.3\n"
     ]
    }
   ],
   "source": [
    "import pickle\n",
    "import sklearn\n",
    "print(pickle.format_version)\n",
    "print(sklearn.__version__)\n",
    "with open('models/models_dict.pkl', 'wb') as f:\n",
    "    pickle.dump(model_dict, f)"
   ]
  },
  {
   "cell_type": "markdown",
   "metadata": {},
   "source": [
    "### Check out the predictions"
   ]
  },
  {
   "cell_type": "code",
   "execution_count": 130,
   "metadata": {},
   "outputs": [],
   "source": [
    "def classify_comment(comment, word_vectorizer, char_vectorizer, models, probability=False, return_df=False):\n",
    "    \"\"\"\n",
    "    :param comment: a string, the raw data to score\n",
    "    \"\"\"\n",
    "    word_features = word_vectorizer.transform([comment])\n",
    "    char_features = char_vectorizer.transform([comment])\n",
    "    combined_features = hstack([char_features, word_features])\n",
    "    \n",
    "    prediction = {}\n",
    "    for class_name, model in models.items():\n",
    "        if probability:\n",
    "            # Take the positive class probability prediction\n",
    "            class_prediction = model.predict_proba(combined_features)[0][1]\n",
    "        else:\n",
    "            class_prediction = model.predict(combined_features)[0]\n",
    "            \n",
    "        prediction[class_name] = [class_prediction]\n",
    "    \n",
    "    if return_df:\n",
    "        return  pd.DataFrame(prediction)\n",
    "    else:\n",
    "        return prediction\n"
   ]
  },
  {
   "cell_type": "code",
   "execution_count": 116,
   "metadata": {},
   "outputs": [
    {
     "data": {
      "text/plain": [
       "'COCKSUCKER BEFORE YOU PISS AROUND ON MY WORK'"
      ]
     },
     "execution_count": 116,
     "metadata": {},
     "output_type": "execute_result"
    }
   ],
   "source": [
    "train.loc[6, 'comment_text']"
   ]
  },
  {
   "cell_type": "code",
   "execution_count": 117,
   "metadata": {},
   "outputs": [
    {
     "data": {
      "text/plain": [
       "{'toxic': [1],\n",
       " 'severe_toxic': [0],\n",
       " 'obscene': [1],\n",
       " 'threat': [0],\n",
       " 'insult': [1],\n",
       " 'identity_hate': [0]}"
      ]
     },
     "execution_count": 117,
     "metadata": {},
     "output_type": "execute_result"
    }
   ],
   "source": [
    "classify_comment(train.loc[6, 'comment_text'], word_vectorizer, char_vectorizer, models)"
   ]
  },
  {
   "cell_type": "code",
   "execution_count": 118,
   "metadata": {},
   "outputs": [
    {
     "data": {
      "text/plain": [
       "{'toxic': [0.8585041205136328],\n",
       " 'severe_toxic': [0.07667344189353084],\n",
       " 'obscene': [0.6610377139745154],\n",
       " 'threat': [0.006208220279737111],\n",
       " 'insult': [0.5310307917522255],\n",
       " 'identity_hate': [0.017713994964651685]}"
      ]
     },
     "execution_count": 118,
     "metadata": {},
     "output_type": "execute_result"
    }
   ],
   "source": [
    "classify_comment(train.loc[6, 'comment_text'], word_vectorizer, char_vectorizer, models, probability=True)"
   ]
  },
  {
   "cell_type": "code",
   "execution_count": 131,
   "metadata": {},
   "outputs": [
    {
     "data": {
      "text/html": [
       "<div>\n",
       "<style scoped>\n",
       "    .dataframe tbody tr th:only-of-type {\n",
       "        vertical-align: middle;\n",
       "    }\n",
       "\n",
       "    .dataframe tbody tr th {\n",
       "        vertical-align: top;\n",
       "    }\n",
       "\n",
       "    .dataframe thead th {\n",
       "        text-align: right;\n",
       "    }\n",
       "</style>\n",
       "<table border=\"1\" class=\"dataframe\">\n",
       "  <thead>\n",
       "    <tr style=\"text-align: right;\">\n",
       "      <th></th>\n",
       "      <th>toxic</th>\n",
       "      <th>severe_toxic</th>\n",
       "      <th>obscene</th>\n",
       "      <th>threat</th>\n",
       "      <th>insult</th>\n",
       "      <th>identity_hate</th>\n",
       "    </tr>\n",
       "  </thead>\n",
       "  <tbody>\n",
       "    <tr>\n",
       "      <th>0</th>\n",
       "      <td>0.858504</td>\n",
       "      <td>0.076673</td>\n",
       "      <td>0.661038</td>\n",
       "      <td>0.006208</td>\n",
       "      <td>0.531031</td>\n",
       "      <td>0.017714</td>\n",
       "    </tr>\n",
       "  </tbody>\n",
       "</table>\n",
       "</div>"
      ],
      "text/plain": [
       "      toxic  severe_toxic   obscene    threat    insult  identity_hate\n",
       "0  0.858504      0.076673  0.661038  0.006208  0.531031       0.017714"
      ]
     },
     "execution_count": 131,
     "metadata": {},
     "output_type": "execute_result"
    }
   ],
   "source": [
    "classify_comment(train.loc[6, 'comment_text'], word_vectorizer, char_vectorizer, models, probability=True, return_df=True)"
   ]
  },
  {
   "cell_type": "markdown",
   "metadata": {},
   "source": [
    "## Look at our model probability distributions"
   ]
  },
  {
   "cell_type": "code",
   "execution_count": 120,
   "metadata": {},
   "outputs": [],
   "source": [
    "all_text = pd.concat([train_text, test_text], axis=0)"
   ]
  },
  {
   "cell_type": "code",
   "execution_count": 160,
   "metadata": {},
   "outputs": [],
   "source": [
    "def score_all(comments, word_vectorizer, char_vectorizer, models, probability=False):\n",
    "    \"\"\"\n",
    "    :param comments: a numpy array or pandas `Series` of comments.\n",
    "    \"\"\"\n",
    "    word_features = word_vectorizer.transform(comments)\n",
    "    char_features = char_vectorizer.transform(comments)\n",
    "    combined_features = hstack([char_features, word_features])\n",
    "    \n",
    "    predictions = {}\n",
    "    for class_name, model in models.items():\n",
    "        if probability:\n",
    "            # Take the positive class probability prediction\n",
    "            class_predictions = model.predict_proba(combined_features)[:, 1]\n",
    "        else:\n",
    "            class_predictions = model.predict(combined_features)\n",
    "            \n",
    "        predictions[class_name] = class_predictions\n",
    "        \n",
    "    return pd.DataFrame(predictions)"
   ]
  },
  {
   "cell_type": "code",
   "execution_count": 161,
   "metadata": {},
   "outputs": [],
   "source": [
    "probs = score_all(all_text, word_vectorizer, char_vectorizer, models, probability=True)"
   ]
  },
  {
   "cell_type": "code",
   "execution_count": 162,
   "metadata": {},
   "outputs": [],
   "source": [
    "labels = score_all(all_text, word_vectorizer, char_vectorizer, models, probability=False)"
   ]
  },
  {
   "cell_type": "code",
   "execution_count": 166,
   "metadata": {},
   "outputs": [],
   "source": [
    "all_text = pd.concat(\n",
    "    [\n",
    "        all_text.reset_index(drop=True),\n",
    "        probs.reset_index(drop=True),\n",
    "        labels.reset_index(drop=True)\n",
    "    ],\n",
    "    axis=1\n",
    ")"
   ]
  },
  {
   "cell_type": "code",
   "execution_count": 172,
   "metadata": {},
   "outputs": [],
   "source": [
    "all_text.columns = ['comment_text'] + [x+'_prob' for x in CLASS_NAMES] + [x+'_pred' for x in CLASS_NAMES]"
   ]
  },
  {
   "cell_type": "code",
   "execution_count": 189,
   "metadata": {},
   "outputs": [
    {
     "data": {
      "text/html": [
       "<div>\n",
       "<style scoped>\n",
       "    .dataframe tbody tr th:only-of-type {\n",
       "        vertical-align: middle;\n",
       "    }\n",
       "\n",
       "    .dataframe tbody tr th {\n",
       "        vertical-align: top;\n",
       "    }\n",
       "\n",
       "    .dataframe thead th {\n",
       "        text-align: right;\n",
       "    }\n",
       "</style>\n",
       "<table border=\"1\" class=\"dataframe\">\n",
       "  <thead>\n",
       "    <tr style=\"text-align: right;\">\n",
       "      <th></th>\n",
       "      <th>comment_text</th>\n",
       "      <th>toxic_prob</th>\n",
       "      <th>severe_toxic_prob</th>\n",
       "      <th>obscene_prob</th>\n",
       "      <th>threat_prob</th>\n",
       "      <th>insult_prob</th>\n",
       "      <th>identity_hate_prob</th>\n",
       "      <th>toxic_pred</th>\n",
       "      <th>severe_toxic_pred</th>\n",
       "      <th>obscene_pred</th>\n",
       "      <th>threat_pred</th>\n",
       "      <th>insult_pred</th>\n",
       "      <th>identity_hate_pred</th>\n",
       "    </tr>\n",
       "  </thead>\n",
       "  <tbody>\n",
       "    <tr>\n",
       "      <th>165118</th>\n",
       "      <td>Re:  You people are incredibly stupid...</td>\n",
       "      <td>0.905300</td>\n",
       "      <td>0.021020</td>\n",
       "      <td>0.289689</td>\n",
       "      <td>0.005241</td>\n",
       "      <td>0.646615</td>\n",
       "      <td>0.030147</td>\n",
       "      <td>1</td>\n",
       "      <td>0</td>\n",
       "      <td>0</td>\n",
       "      <td>0</td>\n",
       "      <td>1</td>\n",
       "      <td>0</td>\n",
       "    </tr>\n",
       "    <tr>\n",
       "      <th>112538</th>\n",
       "      <td>\"\\n\"\"cannon or cannon bone: The area between t...</td>\n",
       "      <td>0.025285</td>\n",
       "      <td>0.002531</td>\n",
       "      <td>0.012835</td>\n",
       "      <td>0.001531</td>\n",
       "      <td>0.011896</td>\n",
       "      <td>0.004578</td>\n",
       "      <td>0</td>\n",
       "      <td>0</td>\n",
       "      <td>0</td>\n",
       "      <td>0</td>\n",
       "      <td>0</td>\n",
       "      <td>0</td>\n",
       "    </tr>\n",
       "    <tr>\n",
       "      <th>232237</th>\n",
       "      <td>==Licenciranje slika== \\n Kada dodajes logoe n...</td>\n",
       "      <td>0.086077</td>\n",
       "      <td>0.007417</td>\n",
       "      <td>0.039037</td>\n",
       "      <td>0.003205</td>\n",
       "      <td>0.040271</td>\n",
       "      <td>0.011650</td>\n",
       "      <td>0</td>\n",
       "      <td>0</td>\n",
       "      <td>0</td>\n",
       "      <td>0</td>\n",
       "      <td>0</td>\n",
       "      <td>0</td>\n",
       "    </tr>\n",
       "  </tbody>\n",
       "</table>\n",
       "</div>"
      ],
      "text/plain": [
       "                                             comment_text  toxic_prob  \\\n",
       "165118           Re:  You people are incredibly stupid...    0.905300   \n",
       "112538  \"\\n\"\"cannon or cannon bone: The area between t...    0.025285   \n",
       "232237  ==Licenciranje slika== \\n Kada dodajes logoe n...    0.086077   \n",
       "\n",
       "        severe_toxic_prob  obscene_prob  threat_prob  insult_prob  \\\n",
       "165118           0.021020      0.289689     0.005241     0.646615   \n",
       "112538           0.002531      0.012835     0.001531     0.011896   \n",
       "232237           0.007417      0.039037     0.003205     0.040271   \n",
       "\n",
       "        identity_hate_prob  toxic_pred  severe_toxic_pred  obscene_pred  \\\n",
       "165118            0.030147           1                  0             0   \n",
       "112538            0.004578           0                  0             0   \n",
       "232237            0.011650           0                  0             0   \n",
       "\n",
       "        threat_pred  insult_pred  identity_hate_pred  \n",
       "165118            0            1                   0  \n",
       "112538            0            0                   0  \n",
       "232237            0            0                   0  "
      ]
     },
     "execution_count": 189,
     "metadata": {},
     "output_type": "execute_result"
    }
   ],
   "source": [
    "all_text.sample(3)"
   ]
  },
  {
   "cell_type": "code",
   "execution_count": 185,
   "metadata": {},
   "outputs": [],
   "source": [
    "import matplotlib.pyplot as plt"
   ]
  },
  {
   "cell_type": "code",
   "execution_count": 186,
   "metadata": {},
   "outputs": [
    {
     "data": {
      "image/png": "[encoded data removed]",
      "text/plain": [
       "<Figure size 720x2160 with 6 Axes>"
      ]
     },
     "metadata": {},
     "output_type": "display_data"
    }
   ],
   "source": [
    "_, ax = plt.subplots(len(CLASS_NAMES), 1, figsize=(10,5*len(CLASS_NAMES)))\n",
    "\n",
    "for i, class_name in enumerate(CLASS_NAMES):\n",
    "    all_text[class_name+'_prob'].plot(kind='hist', bins=100, ax=ax[i])\n",
    "    ax[i].set_title('Probability distribution for {}'.format(class_name))\n",
    "\n",
    "plt.show()"
   ]
  },
  {
   "cell_type": "code",
   "execution_count": null,
   "metadata": {},
   "outputs": [],
   "source": []
  }
 ],
 "metadata": {
  "kernelspec": {
   "display_name": "conda_python3",
   "language": "python",
   "name": "conda_python3"
  },
  "language_info": {
   "codemirror_mode": {
    "name": "ipython",
    "version": 3
   },
   "file_extension": ".py",
   "mimetype": "text/x-python",
   "name": "python",
   "nbconvert_exporter": "python",
   "pygments_lexer": "ipython3",
   "version": "3.6.5"
  }
 },
 "nbformat": 4,
 "nbformat_minor": 4
}
